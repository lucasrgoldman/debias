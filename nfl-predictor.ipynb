{
 "nbformat": 4,
 "nbformat_minor": 2,
 "metadata": {
  "language_info": {
   "name": "python",
   "codemirror_mode": {
    "name": "ipython",
    "version": 3
   },
   "version": "3.8.3-final"
  },
  "orig_nbformat": 2,
  "file_extension": ".py",
  "mimetype": "text/x-python",
  "name": "python",
  "npconvert_exporter": "python",
  "pygments_lexer": "ipython3",
  "version": 3,
  "kernelspec": {
   "name": "python38364bitb241308ac58a444e85aabff6d225fa3b",
   "display_name": "Python 3.8.3 64-bit"
  }
 },
 "cells": [
  {
   "cell_type": "code",
   "execution_count": 3,
   "metadata": {},
   "outputs": [
    {
     "name": "stdout",
     "output_type": "stream",
     "text": "defensive_simple_rating_system   fumbles  interceptions  \\\nname                                                                         \nArizona Cardinals                        0.298534 -0.146889       0.173235   \nAtlanta Falcons                          0.239198 -0.482636      -0.354718   \nBaltimore Ravens                         1.277577 -0.482636      -0.354718   \nBuffalo Bills                            0.179862  0.860350      -0.354718   \nCarolina Panthers                        0.387538 -1.154128       0.965164   \n\n                   margin_of_victory  offensive_simple_rating_system  \\\nname                                                                   \nArizona Cardinals           0.431262                        0.373906   \nAtlanta Falcons            -0.175699                       -0.024098   \nBaltimore Ravens            1.645186                        0.970911   \nBuffalo Bills               1.261842                        1.766918   \nCarolina Panthers          -0.527098                       -0.596228   \n\n                   pass_net_yards_per_attempt  pass_touchdowns  pass_yards  \\\nname                                                                         \nArizona Cardinals                    0.095371        -0.025220    0.141967   \nAtlanta Falcons                      0.095371        -0.025220    1.004256   \nBaltimore Ravens                    -0.182073        -0.025220   -2.128536   \nBuffalo Bills                        1.343869         1.473561    1.500024   \nCarolina Panthers                    0.234093        -1.293419    0.087953   \n\n                   penalties  percent_drives_with_points  ...  \\\nname                                                      ...   \nArizona Cardinals   2.014801                    0.039590  ...   \nAtlanta Falcons    -0.598995                    0.777262  ...   \nBaltimore Ravens    1.230662                    0.857444  ...   \nBuffalo Bills       1.056409                    1.514934  ...   \nCarolina Panthers   0.446523                    0.055626  ...   \n\n                   rush_touchdowns  rush_yards  rush_yards_per_attempt  \\\nname                                                                     \nArizona Cardinals         1.119625    0.903310                0.749012   \nAtlanta Falcons          -0.755096   -0.998395               -1.624095   \nBaltimore Ravens          1.536229    3.152986                2.647497   \nBuffalo Bills            -0.130189   -0.483181               -0.437541   \nCarolina Panthers         0.494718   -0.534433               -0.437541   \n\n                   simple_rating_system  strength_of_schedule  turnovers  \\\nname                                                                       \nArizona Cardinals              0.449286             -0.085829   0.043874   \nAtlanta Falcons                0.120170              1.529776  -0.557832   \nBaltimore Ravens               1.436633             -1.620654  -0.557832   \nBuffalo Bills                  1.332701             -0.166609   0.244443   \nCarolina Panthers             -0.191623              1.772117   0.043874   \n\n                   win_percentage     yards  yards_from_penalties  \\\nname                                                                \nArizona Cardinals       -0.001027  0.825608              0.693817   \nAtlanta Falcons         -1.174777  0.304131             -0.330181   \nBaltimore Ravens         0.881633  0.132327              1.415271   \nBuffalo Bills            1.468508  1.209641              1.260119   \nCarolina Panthers       -0.878992 -0.308300             -0.206060   \n\n                   yards_per_play  \nname                               \nArizona Cardinals        0.254467  \nAtlanta Falcons         -0.174109  \nBaltimore Ravens         0.683043  \nBuffalo Bills            1.111618  \nCarolina Panthers        0.040179  \n\n[5 rows x 25 columns]\n"
    },
    {
     "data": {
      "text/html": "<div>\n<style scoped>\n    .dataframe tbody tr th:only-of-type {\n        vertical-align: middle;\n    }\n\n    .dataframe tbody tr th {\n        vertical-align: top;\n    }\n\n    .dataframe thead th {\n        text-align: right;\n    }\n</style>\n<table border=\"1\" class=\"dataframe\">\n  <thead>\n    <tr style=\"text-align: right;\">\n      <th></th>\n      <th>defensive_simple_rating_system</th>\n      <th>fumbles</th>\n      <th>interceptions</th>\n      <th>margin_of_victory</th>\n      <th>offensive_simple_rating_system</th>\n      <th>pass_net_yards_per_attempt</th>\n      <th>pass_touchdowns</th>\n      <th>pass_yards</th>\n      <th>penalties</th>\n      <th>percent_drives_with_points</th>\n      <th>...</th>\n      <th>rush_touchdowns</th>\n      <th>rush_yards</th>\n      <th>rush_yards_per_attempt</th>\n      <th>simple_rating_system</th>\n      <th>strength_of_schedule</th>\n      <th>turnovers</th>\n      <th>win_percentage</th>\n      <th>yards</th>\n      <th>yards_from_penalties</th>\n      <th>yards_per_play</th>\n    </tr>\n    <tr>\n      <th>name</th>\n      <th></th>\n      <th></th>\n      <th></th>\n      <th></th>\n      <th></th>\n      <th></th>\n      <th></th>\n      <th></th>\n      <th></th>\n      <th></th>\n      <th></th>\n      <th></th>\n      <th></th>\n      <th></th>\n      <th></th>\n      <th></th>\n      <th></th>\n      <th></th>\n      <th></th>\n      <th></th>\n      <th></th>\n    </tr>\n  </thead>\n  <tbody>\n    <tr>\n      <th>Arizona Cardinals</th>\n      <td>0.298534</td>\n      <td>0.146889</td>\n      <td>-0.173235</td>\n      <td>0.431262</td>\n      <td>0.373906</td>\n      <td>0.095371</td>\n      <td>-0.025220</td>\n      <td>0.141967</td>\n      <td>-2.014801</td>\n      <td>0.039590</td>\n      <td>...</td>\n      <td>1.119625</td>\n      <td>0.903310</td>\n      <td>0.749012</td>\n      <td>0.449286</td>\n      <td>-0.085829</td>\n      <td>-0.043874</td>\n      <td>-0.001027</td>\n      <td>0.825608</td>\n      <td>-0.693817</td>\n      <td>0.254467</td>\n    </tr>\n    <tr>\n      <th>Atlanta Falcons</th>\n      <td>0.239198</td>\n      <td>0.482636</td>\n      <td>0.354718</td>\n      <td>-0.175699</td>\n      <td>-0.024098</td>\n      <td>0.095371</td>\n      <td>-0.025220</td>\n      <td>1.004256</td>\n      <td>0.598995</td>\n      <td>0.777262</td>\n      <td>...</td>\n      <td>-0.755096</td>\n      <td>-0.998395</td>\n      <td>-1.624095</td>\n      <td>0.120170</td>\n      <td>1.529776</td>\n      <td>0.557832</td>\n      <td>-1.174777</td>\n      <td>0.304131</td>\n      <td>0.330181</td>\n      <td>-0.174109</td>\n    </tr>\n    <tr>\n      <th>Baltimore Ravens</th>\n      <td>1.277577</td>\n      <td>0.482636</td>\n      <td>0.354718</td>\n      <td>1.645186</td>\n      <td>0.970911</td>\n      <td>-0.182073</td>\n      <td>-0.025220</td>\n      <td>-2.128536</td>\n      <td>-1.230662</td>\n      <td>0.857444</td>\n      <td>...</td>\n      <td>1.536229</td>\n      <td>3.152986</td>\n      <td>2.647497</td>\n      <td>1.436633</td>\n      <td>-1.620654</td>\n      <td>0.557832</td>\n      <td>0.881633</td>\n      <td>0.132327</td>\n      <td>-1.415271</td>\n      <td>0.683043</td>\n    </tr>\n    <tr>\n      <th>Buffalo Bills</th>\n      <td>0.179862</td>\n      <td>-0.860350</td>\n      <td>0.354718</td>\n      <td>1.261842</td>\n      <td>1.766918</td>\n      <td>1.343869</td>\n      <td>1.473561</td>\n      <td>1.500024</td>\n      <td>-1.056409</td>\n      <td>1.514934</td>\n      <td>...</td>\n      <td>-0.130189</td>\n      <td>-0.483181</td>\n      <td>-0.437541</td>\n      <td>1.332701</td>\n      <td>-0.166609</td>\n      <td>-0.244443</td>\n      <td>1.468508</td>\n      <td>1.209641</td>\n      <td>-1.260119</td>\n      <td>1.111618</td>\n    </tr>\n    <tr>\n      <th>Carolina Panthers</th>\n      <td>0.387538</td>\n      <td>1.154128</td>\n      <td>-0.965164</td>\n      <td>-0.527098</td>\n      <td>-0.596228</td>\n      <td>0.234093</td>\n      <td>-1.293419</td>\n      <td>0.087953</td>\n      <td>-0.446523</td>\n      <td>0.055626</td>\n      <td>...</td>\n      <td>0.494718</td>\n      <td>-0.534433</td>\n      <td>-0.437541</td>\n      <td>-0.191623</td>\n      <td>1.772117</td>\n      <td>-0.043874</td>\n      <td>-0.878992</td>\n      <td>-0.308300</td>\n      <td>0.206060</td>\n      <td>0.040179</td>\n    </tr>\n  </tbody>\n</table>\n<p>5 rows × 25 columns</p>\n</div>",
      "text/plain": "                   defensive_simple_rating_system   fumbles  interceptions  \\\nname                                                                         \nArizona Cardinals                        0.298534  0.146889      -0.173235   \nAtlanta Falcons                          0.239198  0.482636       0.354718   \nBaltimore Ravens                         1.277577  0.482636       0.354718   \nBuffalo Bills                            0.179862 -0.860350       0.354718   \nCarolina Panthers                        0.387538  1.154128      -0.965164   \n\n                   margin_of_victory  offensive_simple_rating_system  \\\nname                                                                   \nArizona Cardinals           0.431262                        0.373906   \nAtlanta Falcons            -0.175699                       -0.024098   \nBaltimore Ravens            1.645186                        0.970911   \nBuffalo Bills               1.261842                        1.766918   \nCarolina Panthers          -0.527098                       -0.596228   \n\n                   pass_net_yards_per_attempt  pass_touchdowns  pass_yards  \\\nname                                                                         \nArizona Cardinals                    0.095371        -0.025220    0.141967   \nAtlanta Falcons                      0.095371        -0.025220    1.004256   \nBaltimore Ravens                    -0.182073        -0.025220   -2.128536   \nBuffalo Bills                        1.343869         1.473561    1.500024   \nCarolina Panthers                    0.234093        -1.293419    0.087953   \n\n                   penalties  percent_drives_with_points  ...  \\\nname                                                      ...   \nArizona Cardinals  -2.014801                    0.039590  ...   \nAtlanta Falcons     0.598995                    0.777262  ...   \nBaltimore Ravens   -1.230662                    0.857444  ...   \nBuffalo Bills      -1.056409                    1.514934  ...   \nCarolina Panthers  -0.446523                    0.055626  ...   \n\n                   rush_touchdowns  rush_yards  rush_yards_per_attempt  \\\nname                                                                     \nArizona Cardinals         1.119625    0.903310                0.749012   \nAtlanta Falcons          -0.755096   -0.998395               -1.624095   \nBaltimore Ravens          1.536229    3.152986                2.647497   \nBuffalo Bills            -0.130189   -0.483181               -0.437541   \nCarolina Panthers         0.494718   -0.534433               -0.437541   \n\n                   simple_rating_system  strength_of_schedule  turnovers  \\\nname                                                                       \nArizona Cardinals              0.449286             -0.085829  -0.043874   \nAtlanta Falcons                0.120170              1.529776   0.557832   \nBaltimore Ravens               1.436633             -1.620654   0.557832   \nBuffalo Bills                  1.332701             -0.166609  -0.244443   \nCarolina Panthers             -0.191623              1.772117  -0.043874   \n\n                   win_percentage     yards  yards_from_penalties  \\\nname                                                                \nArizona Cardinals       -0.001027  0.825608             -0.693817   \nAtlanta Falcons         -1.174777  0.304131              0.330181   \nBaltimore Ravens         0.881633  0.132327             -1.415271   \nBuffalo Bills            1.468508  1.209641             -1.260119   \nCarolina Panthers       -0.878992 -0.308300              0.206060   \n\n                   yards_per_play  \nname                               \nArizona Cardinals        0.254467  \nAtlanta Falcons         -0.174109  \nBaltimore Ravens         0.683043  \nBuffalo Bills            1.111618  \nCarolina Panthers        0.040179  \n\n[5 rows x 25 columns]"
     },
     "execution_count": 3,
     "metadata": {},
     "output_type": "execute_result"
    }
   ],
   "source": [
    "from sportsreference.nfl.teams import Teams\n",
    "import pandas as pd\n",
    "import numpy as np\n",
    "from scipy import stats\n",
    "from datetime import datetime\n",
    "\n",
    "# Pull 2020 NFL Data from sportsreference api\n",
    "\n",
    "teams = Teams(year= '2020')\n",
    "teams_df = teams.dataframes\n",
    "teams_df.sort_values(by=['name'], inplace=True, ascending=True)\n",
    "teams_df.set_index('name', inplace=True)\n",
    "\n",
    "# Drop statistics that are not Relevant\n",
    "\n",
    "teams_df.drop(['first_downs', 'first_downs_from_penalties',  'games_played','losses', 'abbreviation','pass_attempts', 'pass_completions', 'pass_first_downs','plays', 'points_contributed_by_offense','post_season_result', 'rush_attempts', 'rush_first_downs', 'wins'], axis=1, inplace= True)\n",
    "\n",
    "# Normalize data\n",
    "\n",
    "for (columnName, columnData) in teams_df.iteritems(): \n",
    "    if columnName != 'name':\n",
    "        teams_df[columnName] = stats.zscore(columnData)\n",
    "\n",
    "# Invert stats that negatively affect a team\n",
    "\n",
    "teams_df[['fumbles', 'interceptions', 'penalties', 'percent_drives_with_turnovers', 'points_against', 'turnovers', 'yards_from_penalties']] *= -1\n",
    "teams_df.head()"
   ]
  },
  {
   "cell_type": "code",
   "execution_count": null,
   "metadata": {},
   "outputs": [],
   "source": [
    "rank = pd.Series()\n",
    "rank['defensive_simple_rating_system'] = 5\n",
    "rank['fumbles'] =0\n",
    "rank['interceptions'] =0\n",
    "rank['margin_of_victory'] = 3\n",
    "rank['offensive_simple_rating_system'] = 5\n",
    "rank['pass_net_yards_per_attempt'] = .5\n",
    "rank['pass_touchdowns'] = 1\n",
    "rank['pass_yards'] =1\n",
    "rank['penalties'] =1\n",
    "rank['percent_drives_with_points'] =2\n",
    "rank['percent_drives_with_turnovers'] = 2\n",
    "rank['points_against'] =1\n",
    "rank['rank'] = 0\n",
    "rank['rush_touchdowns'] = 1\n",
    "rank['rush_yards'] = 3\n",
    "rank['rush_yards_per_attempt'] =1\n",
    "rank['simple_rating_system'] = 7\n",
    "rank['strength_of_schedule'] = 4\n",
    "rank['turnovers'] = 3\n",
    "rank['win_percentage'] = 6\n",
    "rank['yards'] = 2\n",
    "rank['yards_from_penalties'] = .5\n",
    "rank['yards_per_play'] = 2  \n",
    "sum = rank.sum() \n",
    "rank/=sum"
   ]
  },
  {
   "cell_type": "code",
   "execution_count": null,
   "metadata": {},
   "outputs": [],
   "source": [
    "for (columnName, columnData) in rank.iteritems(): \n",
    "    teams_df[columnName]*= columnData\n",
    "    print(rank[columnName])"
   ]
  },
  {
   "cell_type": "code",
   "execution_count": null,
   "metadata": {},
   "outputs": [],
   "source": [
    "teams_df['sum'] = 0.0\n",
    "for i, row in teams_df.iterrows():\n",
    "    teams_df.at[i, 'sum'] = row['defensive_simple_rating_system':].sum()\n",
    "teams_df.sort_values(by=['sum'], inplace=True, ascending=False)\n",
    "print(teams_df['sum'])"
   ]
  },
  {
   "cell_type": "code",
   "execution_count": null,
   "metadata": {},
   "outputs": [],
   "source": [
    "import matplotlib.pyplot as plt\n",
    "import seaborn as sns\n",
    "sns.kdeplot(teams_df['sum'])\n",
    "\n"
   ]
  },
  {
   "cell_type": "code",
   "execution_count": null,
   "metadata": {},
   "outputs": [],
   "source": [
    "teams_df['zscores'] = stats.zscore(teams_df['sum'])\n",
    "teams_df['percentile'] =  1- stats.norm.sf(teams_df['zscores'])\n",
    "print(teams_df['percentile'])"
   ]
  },
  {
   "cell_type": "code",
   "execution_count": null,
   "metadata": {},
   "outputs": [],
   "source": [
    "def predict (team1, team2):\n",
    "    t1 = teams_df['percentile'].loc[team1]\n",
    "    t2 = teams_df['percentile'].loc[team2]\n",
    "    #return (teams_df['percentile'].loc[team1] - teams_df['percentile'].loc[team2])/2 + .5\n",
    "    p = 1/(10**(-(t1 - t2))+1)\n",
    "    return probToMoneyLine(p)"
   ]
  },
  {
   "cell_type": "code",
   "execution_count": null,
   "metadata": {},
   "outputs": [],
   "source": [
    "def probToMoneyLine (prob):\n",
    "    ml = 0\n",
    "    prob*=100\n",
    "    if prob >50:\n",
    "        ml = -(prob/(100 - prob)) * 100\n",
    "    elif prob < 50:\n",
    "        ml = (((100 - prob)/prob) * 100)\n",
    "    else:\n",
    "        ml = 100\n",
    "    return ml"
   ]
  },
  {
   "cell_type": "code",
   "execution_count": null,
   "metadata": {},
   "outputs": [],
   "source": [
    "predict('Tennessee Titans', 'Las Vegas Raiders')"
   ]
  },
  {
   "cell_type": "code",
   "execution_count": null,
   "metadata": {},
   "outputs": [],
   "source": [
    "import json\n",
    "import requests\n",
    "import argparse\n",
    "\n",
    "parser = argparse.ArgumentParser(description='Sample')\n",
    "parser.add_argument('--api-key', type=str, default='')\n",
    "args, unknown = parser.parse_known_args()\n",
    "\n",
    "\n",
    "API_KEY = '58f860df380e5b01f108f9418584b714'\n",
    "\n",
    "SPORT = 'americanfootball_nfl' # use the sport_key from the /sports endpoint below, or use 'upcoming' to see the next 8 games across all sports\n",
    "\n",
    "REGION = 'us' # uk | us | eu | au\n",
    "\n",
    "MARKET = 'h2h' # h2h | spreads | totals\n",
    "\n",
    "ODDSFORMAT  = 'american'\n",
    "\n",
    "\n",
    "\n",
    "# # # # # # # # # # # # # # # # # # # # # # # # # # # # # # # # # # # # \n",
    "#\n",
    "# Now get a list of live & upcoming games for the sport you want, along with odds for different bookmakers\n",
    "#\n",
    "# # # # # # # # # # # # # # # # # # # # # # # # # # # # # # # # # # # # \n",
    "\n",
    "odds_response = requests.get('https://api.the-odds-api.com/v3/odds', params={\n",
    "    'api_key': API_KEY,\n",
    "    'sport': SPORT,\n",
    "    'region': REGION,\n",
    "    'mkt': MARKET,\n",
    "    'oddsFormat': ODDSFORMAT,\n",
    "})\n",
    "\n",
    "odds_json = json.loads(odds_response.text)\n",
    "games = []\n",
    "if not odds_json['success']:\n",
    "    print(odds_json['msg'])\n",
    "else:\n",
    "    print('Number of events:', len(odds_json['data']))\n",
    "    print(odds_json['data'][0]['commence_time'])\n",
    "    first = odds_json['data']\n",
    "    for i, game in enumerate(odds_json['data'], start=0):\n",
    "        games.append({})\n",
    "        games[i]['teams'] = game['teams']\n",
    "        games[i]['home'] = game['home_team']\n",
    "\n",
    "        for site in game['sites']:\n",
    "            if site['site_nice'] == 'Caesars':\n",
    "                games[i]['odds'] = site['odds']['h2h']\n",
    "\n",
    "    # Check your usage\n",
    "    print('Remaining requests', odds_response.headers['x-requests-remaining'])\n",
    "    print('Used requests', odds_response.headers['x-requests-used'])"
   ]
  },
  {
   "cell_type": "code",
   "execution_count": null,
   "metadata": {},
   "outputs": [],
   "source": [
    "print(games)"
   ]
  },
  {
   "cell_type": "code",
   "execution_count": null,
   "metadata": {},
   "outputs": [],
   "source": [
    "for game in games:\n",
    "    team1 = game['teams'][0]\n",
    "    team2 = game['teams'][1]\n",
    "    print(team1, ' vs', team2)\n",
    "    print('Predicted Line for', team1,'is', predict(team1, team2))\n",
    "    print('Actual Line for', team1,'is', game['odds'][0] )\n"
   ]
  },
  {
   "cell_type": "code",
   "execution_count": null,
   "metadata": {},
   "outputs": [],
   "source": []
  }
 ]
}