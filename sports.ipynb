{
 "nbformat": 4,
 "nbformat_minor": 2,
 "metadata": {
  "language_info": {
   "name": "python",
   "codemirror_mode": {
    "name": "ipython",
    "version": 3
   },
   "version": "3.8.3-final"
  },
  "orig_nbformat": 2,
  "file_extension": ".py",
  "mimetype": "text/x-python",
  "name": "python",
  "npconvert_exporter": "python",
  "pygments_lexer": "ipython3",
  "version": 3,
  "kernelspec": {
   "name": "python38364bitb241308ac58a444e85aabff6d225fa3b",
   "display_name": "Python 3.8.3 64-bit"
  }
 },
 "cells": [
  {
   "cell_type": "code",
   "execution_count": 1,
   "metadata": {},
   "outputs": [
    {
     "output_type": "stream",
     "name": "stdout",
     "text": "['defensive_simple_rating_system', 'fumbles', 'interceptions', 'margin_of_victory', 'offensive_simple_rating_system', 'pass_net_yards_per_attempt', 'pass_touchdowns', 'pass_yards', 'penalties', 'percent_drives_with_points', 'percent_drives_with_turnovers', 'points_against', 'points_difference', 'points_for', 'rank', 'rush_touchdowns', 'rush_yards', 'rush_yards_per_attempt', 'simple_rating_system', 'strength_of_schedule', 'turnovers', 'win_percentage', 'yards', 'yards_from_penalties', 'yards_per_play']\n                      defensive_simple_rating_system   fumbles  interceptions  \\\nname                                                                            \nGreen Bay Packers                           0.535878  0.818382       1.938577   \nBuffalo Bills                               0.179862 -0.860350       0.354718   \nTampa Bay Buccaneers                        0.832557  1.154128       0.090742   \nTennessee Titans                           -0.917853  1.154128       1.410624   \nNew Orleans Saints                          1.336912 -0.188857       1.146648   \n\n                      margin_of_victory  offensive_simple_rating_system  \\\nname                                                                      \nGreen Bay Packers              1.405596                        1.468415   \nBuffalo Bills                  1.261842                        1.766918   \nTampa Bay Buccaneers           1.373650                        1.617666   \nTennessee Titans               0.527098                        1.169912   \nNew Orleans Saints             1.453514                        1.269413   \n\n                      pass_net_yards_per_attempt  pass_touchdowns  pass_yards  \\\nname                                                                            \nGreen Bay Packers                       1.482591         2.395887    0.508488   \nBuffalo Bills                           1.343869         1.473561    1.500024   \nTampa Bay Buccaneers                    0.927703         1.704142    1.511599   \nTennessee Titans                        1.066425         0.666525   -0.365376   \nNew Orleans Saints                      0.511537         0.090071   -0.162825   \n\n                      penalties  percent_drives_with_points  ...  \\\nname                                                         ...   \nGreen Bay Packers      0.511868                    1.563043  ...   \nBuffalo Bills         -1.056409                    1.514934  ...   \nTampa Bay Buccaneers   0.511868                    1.258352  ...   \nTennessee Titans       0.337615                    1.274389  ...   \nNew Orleans Saints    -0.707903                    0.889516  ...   \n\n                      rush_touchdowns  rush_yards  rush_yards_per_attempt  \\\nname                                                                        \nGreen Bay Packers           -0.130189    0.582313                0.986322   \nBuffalo Bills               -0.130189   -0.483181               -0.437541   \nTampa Bay Buccaneers        -0.130189   -1.033462               -0.674852   \nTennessee Titans             1.952834    2.125256                1.935565   \nNew Orleans Saints           2.786043    0.978838                0.511701   \n\n                      simple_rating_system  strength_of_schedule  turnovers  \\\nname                                                                          \nGreen Bay Packers                 1.332701             -0.893632   1.961814   \nBuffalo Bills                     1.332701             -0.166609  -0.244443   \nTampa Bay Buccaneers              1.627173              0.641193   0.758401   \nTennessee Titans                  0.276067             -1.378313   1.761245   \nNew Orleans Saints                1.661817              0.398853   0.758401   \n\n                      win_percentage     yards  yards_from_penalties  \\\nname                                                                   \nGreen Bay Packers           1.468508  0.969115              0.733575   \nBuffalo Bills               1.468508  1.209641             -1.260119   \nTampa Bay Buccaneers        0.881633  0.809438              0.493090   \nTennessee Titans            0.881633  1.209641             -0.034424   \nNew Orleans Saints          1.172723  0.562849             -1.756603   \n\n                      yards_per_play  \nname                                  \nGreen Bay Packers           1.540194  \nBuffalo Bills               1.111618  \nTampa Bay Buccaneers        0.897330  \nTennessee Titans            1.325906  \nNew Orleans Saints          0.468755  \n\n[5 rows x 25 columns]\n"
    }
   ],
   "source": [
    "from sportsreference.nfl.teams import Teams\n",
    "import pandas as pd\n",
    "import numpy as np\n",
    "from scipy import stats\n",
    "\n",
    "teams = Teams(year= '2020')\n",
    "teams_df = teams.dataframes\n",
    "teams_df.set_index('name', inplace=True)\n",
    "teams_df.drop(['first_downs', 'first_downs_from_penalties',  'games_played','losses', 'abbreviation','pass_attempts', 'pass_completions', 'pass_first_downs','plays', 'points_contributed_by_offense','post_season_result', 'rush_attempts', 'rush_first_downs', 'wins'], axis=1, inplace= True)\n",
    "#stats.zscore(teams_df, axis =1, nan_policy=\"omit\")\n",
    "print(list(teams_df.columns))\n",
    "for (columnName, columnData) in teams_df.iteritems(): \n",
    "    if columnName != 'name':\n",
    "        teams_df[columnName] = stats.zscore(columnData)\n",
    "teams_df['fumbles'] *= -1\n",
    "teams_df['interceptions'] *= -1\n",
    "teams_df['penalties'] *= -1\n",
    "teams_df['percent_drives_with_turnovers'] *= -1\n",
    "teams_df['points_against'] *= -1\n",
    "teams_df['turnovers'] *= -1\n",
    "teams_df['yards_from_penalties'] *= -1\n",
    "print(teams_df.head())\n",
    "#print(list(teams_df.columns))"
   ]
  },
  {
   "cell_type": "code",
   "execution_count": 2,
   "metadata": {},
   "outputs": [],
   "source": [
    "rank = pd.Series()\n",
    "rank['defensive_simple_rating_system'] = 5\n",
    "rank['fumbles'] =0\n",
    "rank['interceptions'] =0\n",
    "rank['margin_of_victory'] = 3\n",
    "rank['offensive_simple_rating_system'] = 5\n",
    "rank['pass_net_yards_per_attempt'] = .5\n",
    "rank['pass_touchdowns'] = 1\n",
    "rank['pass_yards'] =1\n",
    "rank['penalties'] =1\n",
    "rank['percent_drives_with_points'] =2\n",
    "rank['percent_drives_with_turnovers'] = 2\n",
    "rank['points_against'] =1\n",
    "rank['rank'] = 0\n",
    "rank['rush_touchdowns'] = 1\n",
    "rank['rush_yards'] = 3\n",
    "rank['rush_yards_per_attempt'] =1\n",
    "rank['simple_rating_system'] = 7\n",
    "rank['strength_of_schedule'] = 4\n",
    "rank['turnovers'] = 3\n",
    "rank['win_percentage'] = 6\n",
    "rank['yards'] = 2\n",
    "rank['yards_from_penalties'] = .5\n",
    "rank['yards_per_play'] = 2  \n",
    "sum = rank.sum() \n",
    "rank/=sum"
   ]
  },
  {
   "cell_type": "code",
   "execution_count": 3,
   "metadata": {},
   "outputs": [
    {
     "output_type": "stream",
     "name": "stdout",
     "text": "0.09803921568627451\n0.0\n0.0\n0.058823529411764705\n0.09803921568627451\n0.00980392156862745\n0.0196078431372549\n0.0196078431372549\n0.0196078431372549\n0.0392156862745098\n0.0392156862745098\n0.0196078431372549\n0.0\n0.0196078431372549\n0.058823529411764705\n0.0196078431372549\n0.13725490196078433\n0.0784313725490196\n0.058823529411764705\n0.11764705882352941\n0.0392156862745098\n0.00980392156862745\n0.0392156862745098\n"
    }
   ],
   "source": [
    "for (columnName, columnData) in rank.iteritems(): \n",
    "    teams_df[columnName]*= columnData\n",
    "    print(rank[columnName])"
   ]
  },
  {
   "cell_type": "code",
   "execution_count": 4,
   "metadata": {},
   "outputs": [
    {
     "output_type": "stream",
     "name": "stdout",
     "text": "name\nGreen Bay Packers           4.148443\nNew Orleans Saints          3.728497\nTampa Bay Buccaneers        3.709025\nBuffalo Bills               3.553107\nBaltimore Ravens            3.529017\nKansas City Chiefs          3.150442\nTennessee Titans            2.538488\nSeattle Seahawks            2.461047\nIndianapolis Colts          2.036179\nPittsburgh Steelers         1.574587\nMiami Dolphins              0.914919\nArizona Cardinals           0.867783\nLos Angeles Rams            0.845463\nCleveland Browns            0.089813\nMinnesota Vikings           0.053471\nLas Vegas Raiders          -0.000880\nAtlanta Falcons            -0.171198\nChicago Bears              -0.500828\nSan Francisco 49ers        -0.523119\nLos Angeles Chargers       -0.766915\nNew England Patriots       -1.326378\nWashington Football Team   -1.327965\nCarolina Panthers          -1.354314\nHouston Texans             -1.362336\nDallas Cowboys             -1.396012\nDetroit Lions              -2.356178\nPhiladelphia Eagles        -2.471150\nDenver Broncos             -3.060648\nNew York Giants            -3.066611\nCincinnati Bengals         -3.298162\nJacksonville Jaguars       -4.570994\nNew York Jets              -5.646592\nName: sum, dtype: float64\n"
    }
   ],
   "source": [
    "teams_df['sum'] = 0.0\n",
    "for i, row in teams_df.iterrows():\n",
    "    teams_df.at[i, 'sum'] = row['defensive_simple_rating_system':].sum()\n",
    "teams_df.sort_values(by=['sum'], inplace=True, ascending=False)\n",
    "print(teams_df['sum'])"
   ]
  },
  {
   "cell_type": "code",
   "execution_count": 5,
   "metadata": {},
   "outputs": [
    {
     "output_type": "execute_result",
     "data": {
      "text/plain": "<matplotlib.axes._subplots.AxesSubplot at 0x7fd0395db580>"
     },
     "metadata": {},
     "execution_count": 5
    },
    {
     "output_type": "display_data",
     "data": {
      "text/plain": "<Figure size 432x288 with 1 Axes>",
      "image/svg+xml": "<?xml version=\"1.0\" encoding=\"utf-8\" standalone=\"no\"?>\n<!DOCTYPE svg PUBLIC \"-//W3C//DTD SVG 1.1//EN\"\n  \"http://www.w3.org/Graphics/SVG/1.1/DTD/svg11.dtd\">\n<!-- Created with matplotlib (https://matplotlib.org/) -->\n<svg height=\"248.518125pt\" version=\"1.1\" viewBox=\"0 0 378.465625 248.518125\" width=\"378.465625pt\" xmlns=\"http://www.w3.org/2000/svg\" xmlns:xlink=\"http://www.w3.org/1999/xlink\">\n <defs>\n  <style type=\"text/css\">\n*{stroke-linecap:butt;stroke-linejoin:round;}\n  </style>\n </defs>\n <g id=\"figure_1\">\n  <g id=\"patch_1\">\n   <path d=\"M 0 248.518125 \nL 378.465625 248.518125 \nL 378.465625 0 \nL 0 0 \nz\n\" style=\"fill:none;\"/>\n  </g>\n  <g id=\"axes_1\">\n   <g id=\"patch_2\">\n    <path d=\"M 36.465625 224.64 \nL 371.265625 224.64 \nL 371.265625 7.2 \nL 36.465625 7.2 \nz\n\" style=\"fill:#ffffff;\"/>\n   </g>\n   <g id=\"matplotlib.axis_1\">\n    <g id=\"xtick_1\">\n     <g id=\"line2d_1\">\n      <defs>\n       <path d=\"M 0 0 \nL 0 3.5 \n\" id=\"m37e11de2ae\" style=\"stroke:#000000;stroke-width:0.8;\"/>\n      </defs>\n      <g>\n       <use style=\"stroke:#000000;stroke-width:0.8;\" x=\"42.058264\" xlink:href=\"#m37e11de2ae\" y=\"224.64\"/>\n      </g>\n     </g>\n     <g id=\"text_1\">\n      <!-- −10.0 -->\n      <defs>\n       <path d=\"M 10.59375 35.5 \nL 73.1875 35.5 \nL 73.1875 27.203125 \nL 10.59375 27.203125 \nz\n\" id=\"DejaVuSans-8722\"/>\n       <path d=\"M 12.40625 8.296875 \nL 28.515625 8.296875 \nL 28.515625 63.921875 \nL 10.984375 60.40625 \nL 10.984375 69.390625 \nL 28.421875 72.90625 \nL 38.28125 72.90625 \nL 38.28125 8.296875 \nL 54.390625 8.296875 \nL 54.390625 0 \nL 12.40625 0 \nz\n\" id=\"DejaVuSans-49\"/>\n       <path d=\"M 31.78125 66.40625 \nQ 24.171875 66.40625 20.328125 58.90625 \nQ 16.5 51.421875 16.5 36.375 \nQ 16.5 21.390625 20.328125 13.890625 \nQ 24.171875 6.390625 31.78125 6.390625 \nQ 39.453125 6.390625 43.28125 13.890625 \nQ 47.125 21.390625 47.125 36.375 \nQ 47.125 51.421875 43.28125 58.90625 \nQ 39.453125 66.40625 31.78125 66.40625 \nz\nM 31.78125 74.21875 \nQ 44.046875 74.21875 50.515625 64.515625 \nQ 56.984375 54.828125 56.984375 36.375 \nQ 56.984375 17.96875 50.515625 8.265625 \nQ 44.046875 -1.421875 31.78125 -1.421875 \nQ 19.53125 -1.421875 13.0625 8.265625 \nQ 6.59375 17.96875 6.59375 36.375 \nQ 6.59375 54.828125 13.0625 64.515625 \nQ 19.53125 74.21875 31.78125 74.21875 \nz\n\" id=\"DejaVuSans-48\"/>\n       <path d=\"M 10.6875 12.40625 \nL 21 12.40625 \nL 21 0 \nL 10.6875 0 \nz\n\" id=\"DejaVuSans-46\"/>\n      </defs>\n      <g transform=\"translate(26.735608 239.238437)scale(0.1 -0.1)\">\n       <use xlink:href=\"#DejaVuSans-8722\"/>\n       <use x=\"83.789062\" xlink:href=\"#DejaVuSans-49\"/>\n       <use x=\"147.412109\" xlink:href=\"#DejaVuSans-48\"/>\n       <use x=\"211.035156\" xlink:href=\"#DejaVuSans-46\"/>\n       <use x=\"242.822266\" xlink:href=\"#DejaVuSans-48\"/>\n      </g>\n     </g>\n    </g>\n    <g id=\"xtick_2\">\n     <g id=\"line2d_2\">\n      <g>\n       <use style=\"stroke:#000000;stroke-width:0.8;\" x=\"85.785608\" xlink:href=\"#m37e11de2ae\" y=\"224.64\"/>\n      </g>\n     </g>\n     <g id=\"text_2\">\n      <!-- −7.5 -->\n      <defs>\n       <path d=\"M 8.203125 72.90625 \nL 55.078125 72.90625 \nL 55.078125 68.703125 \nL 28.609375 0 \nL 18.3125 0 \nL 43.21875 64.59375 \nL 8.203125 64.59375 \nz\n\" id=\"DejaVuSans-55\"/>\n       <path d=\"M 10.796875 72.90625 \nL 49.515625 72.90625 \nL 49.515625 64.59375 \nL 19.828125 64.59375 \nL 19.828125 46.734375 \nQ 21.96875 47.46875 24.109375 47.828125 \nQ 26.265625 48.1875 28.421875 48.1875 \nQ 40.625 48.1875 47.75 41.5 \nQ 54.890625 34.8125 54.890625 23.390625 \nQ 54.890625 11.625 47.5625 5.09375 \nQ 40.234375 -1.421875 26.90625 -1.421875 \nQ 22.3125 -1.421875 17.546875 -0.640625 \nQ 12.796875 0.140625 7.71875 1.703125 \nL 7.71875 11.625 \nQ 12.109375 9.234375 16.796875 8.0625 \nQ 21.484375 6.890625 26.703125 6.890625 \nQ 35.15625 6.890625 40.078125 11.328125 \nQ 45.015625 15.765625 45.015625 23.390625 \nQ 45.015625 31 40.078125 35.4375 \nQ 35.15625 39.890625 26.703125 39.890625 \nQ 22.75 39.890625 18.8125 39.015625 \nQ 14.890625 38.140625 10.796875 36.28125 \nz\n\" id=\"DejaVuSans-53\"/>\n      </defs>\n      <g transform=\"translate(73.644201 239.238437)scale(0.1 -0.1)\">\n       <use xlink:href=\"#DejaVuSans-8722\"/>\n       <use x=\"83.789062\" xlink:href=\"#DejaVuSans-55\"/>\n       <use x=\"147.412109\" xlink:href=\"#DejaVuSans-46\"/>\n       <use x=\"179.199219\" xlink:href=\"#DejaVuSans-53\"/>\n      </g>\n     </g>\n    </g>\n    <g id=\"xtick_3\">\n     <g id=\"line2d_3\">\n      <g>\n       <use style=\"stroke:#000000;stroke-width:0.8;\" x=\"129.512951\" xlink:href=\"#m37e11de2ae\" y=\"224.64\"/>\n      </g>\n     </g>\n     <g id=\"text_3\">\n      <!-- −5.0 -->\n      <g transform=\"translate(117.371545 239.238437)scale(0.1 -0.1)\">\n       <use xlink:href=\"#DejaVuSans-8722\"/>\n       <use x=\"83.789062\" xlink:href=\"#DejaVuSans-53\"/>\n       <use x=\"147.412109\" xlink:href=\"#DejaVuSans-46\"/>\n       <use x=\"179.199219\" xlink:href=\"#DejaVuSans-48\"/>\n      </g>\n     </g>\n    </g>\n    <g id=\"xtick_4\">\n     <g id=\"line2d_4\">\n      <g>\n       <use style=\"stroke:#000000;stroke-width:0.8;\" x=\"173.240294\" xlink:href=\"#m37e11de2ae\" y=\"224.64\"/>\n      </g>\n     </g>\n     <g id=\"text_4\">\n      <!-- −2.5 -->\n      <defs>\n       <path d=\"M 19.1875 8.296875 \nL 53.609375 8.296875 \nL 53.609375 0 \nL 7.328125 0 \nL 7.328125 8.296875 \nQ 12.9375 14.109375 22.625 23.890625 \nQ 32.328125 33.6875 34.8125 36.53125 \nQ 39.546875 41.84375 41.421875 45.53125 \nQ 43.3125 49.21875 43.3125 52.78125 \nQ 43.3125 58.59375 39.234375 62.25 \nQ 35.15625 65.921875 28.609375 65.921875 \nQ 23.96875 65.921875 18.8125 64.3125 \nQ 13.671875 62.703125 7.8125 59.421875 \nL 7.8125 69.390625 \nQ 13.765625 71.78125 18.9375 73 \nQ 24.125 74.21875 28.421875 74.21875 \nQ 39.75 74.21875 46.484375 68.546875 \nQ 53.21875 62.890625 53.21875 53.421875 \nQ 53.21875 48.921875 51.53125 44.890625 \nQ 49.859375 40.875 45.40625 35.40625 \nQ 44.1875 33.984375 37.640625 27.21875 \nQ 31.109375 20.453125 19.1875 8.296875 \nz\n\" id=\"DejaVuSans-50\"/>\n      </defs>\n      <g transform=\"translate(161.098888 239.238437)scale(0.1 -0.1)\">\n       <use xlink:href=\"#DejaVuSans-8722\"/>\n       <use x=\"83.789062\" xlink:href=\"#DejaVuSans-50\"/>\n       <use x=\"147.412109\" xlink:href=\"#DejaVuSans-46\"/>\n       <use x=\"179.199219\" xlink:href=\"#DejaVuSans-53\"/>\n      </g>\n     </g>\n    </g>\n    <g id=\"xtick_5\">\n     <g id=\"line2d_5\">\n      <g>\n       <use style=\"stroke:#000000;stroke-width:0.8;\" x=\"216.967638\" xlink:href=\"#m37e11de2ae\" y=\"224.64\"/>\n      </g>\n     </g>\n     <g id=\"text_5\">\n      <!-- 0.0 -->\n      <g transform=\"translate(209.016075 239.238437)scale(0.1 -0.1)\">\n       <use xlink:href=\"#DejaVuSans-48\"/>\n       <use x=\"63.623047\" xlink:href=\"#DejaVuSans-46\"/>\n       <use x=\"95.410156\" xlink:href=\"#DejaVuSans-48\"/>\n      </g>\n     </g>\n    </g>\n    <g id=\"xtick_6\">\n     <g id=\"line2d_6\">\n      <g>\n       <use style=\"stroke:#000000;stroke-width:0.8;\" x=\"260.694981\" xlink:href=\"#m37e11de2ae\" y=\"224.64\"/>\n      </g>\n     </g>\n     <g id=\"text_6\">\n      <!-- 2.5 -->\n      <g transform=\"translate(252.743419 239.238437)scale(0.1 -0.1)\">\n       <use xlink:href=\"#DejaVuSans-50\"/>\n       <use x=\"63.623047\" xlink:href=\"#DejaVuSans-46\"/>\n       <use x=\"95.410156\" xlink:href=\"#DejaVuSans-53\"/>\n      </g>\n     </g>\n    </g>\n    <g id=\"xtick_7\">\n     <g id=\"line2d_7\">\n      <g>\n       <use style=\"stroke:#000000;stroke-width:0.8;\" x=\"304.422325\" xlink:href=\"#m37e11de2ae\" y=\"224.64\"/>\n      </g>\n     </g>\n     <g id=\"text_7\">\n      <!-- 5.0 -->\n      <g transform=\"translate(296.470762 239.238437)scale(0.1 -0.1)\">\n       <use xlink:href=\"#DejaVuSans-53\"/>\n       <use x=\"63.623047\" xlink:href=\"#DejaVuSans-46\"/>\n       <use x=\"95.410156\" xlink:href=\"#DejaVuSans-48\"/>\n      </g>\n     </g>\n    </g>\n    <g id=\"xtick_8\">\n     <g id=\"line2d_8\">\n      <g>\n       <use style=\"stroke:#000000;stroke-width:0.8;\" x=\"348.149668\" xlink:href=\"#m37e11de2ae\" y=\"224.64\"/>\n      </g>\n     </g>\n     <g id=\"text_8\">\n      <!-- 7.5 -->\n      <g transform=\"translate(340.198106 239.238437)scale(0.1 -0.1)\">\n       <use xlink:href=\"#DejaVuSans-55\"/>\n       <use x=\"63.623047\" xlink:href=\"#DejaVuSans-46\"/>\n       <use x=\"95.410156\" xlink:href=\"#DejaVuSans-53\"/>\n      </g>\n     </g>\n    </g>\n   </g>\n   <g id=\"matplotlib.axis_2\">\n    <g id=\"ytick_1\">\n     <g id=\"line2d_9\">\n      <defs>\n       <path d=\"M 0 0 \nL -3.5 0 \n\" id=\"mf30af797ca\" style=\"stroke:#000000;stroke-width:0.8;\"/>\n      </defs>\n      <g>\n       <use style=\"stroke:#000000;stroke-width:0.8;\" x=\"36.465625\" xlink:href=\"#mf30af797ca\" y=\"224.64\"/>\n      </g>\n     </g>\n     <g id=\"text_9\">\n      <!-- 0.00 -->\n      <g transform=\"translate(7.2 228.439219)scale(0.1 -0.1)\">\n       <use xlink:href=\"#DejaVuSans-48\"/>\n       <use x=\"63.623047\" xlink:href=\"#DejaVuSans-46\"/>\n       <use x=\"95.410156\" xlink:href=\"#DejaVuSans-48\"/>\n       <use x=\"159.033203\" xlink:href=\"#DejaVuSans-48\"/>\n      </g>\n     </g>\n    </g>\n    <g id=\"ytick_2\">\n     <g id=\"line2d_10\">\n      <g>\n       <use style=\"stroke:#000000;stroke-width:0.8;\" x=\"36.465625\" xlink:href=\"#mf30af797ca\" y=\"194.138794\"/>\n      </g>\n     </g>\n     <g id=\"text_10\">\n      <!-- 0.02 -->\n      <g transform=\"translate(7.2 197.938013)scale(0.1 -0.1)\">\n       <use xlink:href=\"#DejaVuSans-48\"/>\n       <use x=\"63.623047\" xlink:href=\"#DejaVuSans-46\"/>\n       <use x=\"95.410156\" xlink:href=\"#DejaVuSans-48\"/>\n       <use x=\"159.033203\" xlink:href=\"#DejaVuSans-50\"/>\n      </g>\n     </g>\n    </g>\n    <g id=\"ytick_3\">\n     <g id=\"line2d_11\">\n      <g>\n       <use style=\"stroke:#000000;stroke-width:0.8;\" x=\"36.465625\" xlink:href=\"#mf30af797ca\" y=\"163.637589\"/>\n      </g>\n     </g>\n     <g id=\"text_11\">\n      <!-- 0.04 -->\n      <defs>\n       <path d=\"M 37.796875 64.3125 \nL 12.890625 25.390625 \nL 37.796875 25.390625 \nz\nM 35.203125 72.90625 \nL 47.609375 72.90625 \nL 47.609375 25.390625 \nL 58.015625 25.390625 \nL 58.015625 17.1875 \nL 47.609375 17.1875 \nL 47.609375 0 \nL 37.796875 0 \nL 37.796875 17.1875 \nL 4.890625 17.1875 \nL 4.890625 26.703125 \nz\n\" id=\"DejaVuSans-52\"/>\n      </defs>\n      <g transform=\"translate(7.2 167.436808)scale(0.1 -0.1)\">\n       <use xlink:href=\"#DejaVuSans-48\"/>\n       <use x=\"63.623047\" xlink:href=\"#DejaVuSans-46\"/>\n       <use x=\"95.410156\" xlink:href=\"#DejaVuSans-48\"/>\n       <use x=\"159.033203\" xlink:href=\"#DejaVuSans-52\"/>\n      </g>\n     </g>\n    </g>\n    <g id=\"ytick_4\">\n     <g id=\"line2d_12\">\n      <g>\n       <use style=\"stroke:#000000;stroke-width:0.8;\" x=\"36.465625\" xlink:href=\"#mf30af797ca\" y=\"133.136383\"/>\n      </g>\n     </g>\n     <g id=\"text_12\">\n      <!-- 0.06 -->\n      <defs>\n       <path d=\"M 33.015625 40.375 \nQ 26.375 40.375 22.484375 35.828125 \nQ 18.609375 31.296875 18.609375 23.390625 \nQ 18.609375 15.53125 22.484375 10.953125 \nQ 26.375 6.390625 33.015625 6.390625 \nQ 39.65625 6.390625 43.53125 10.953125 \nQ 47.40625 15.53125 47.40625 23.390625 \nQ 47.40625 31.296875 43.53125 35.828125 \nQ 39.65625 40.375 33.015625 40.375 \nz\nM 52.59375 71.296875 \nL 52.59375 62.3125 \nQ 48.875 64.0625 45.09375 64.984375 \nQ 41.3125 65.921875 37.59375 65.921875 \nQ 27.828125 65.921875 22.671875 59.328125 \nQ 17.53125 52.734375 16.796875 39.40625 \nQ 19.671875 43.65625 24.015625 45.921875 \nQ 28.375 48.1875 33.59375 48.1875 \nQ 44.578125 48.1875 50.953125 41.515625 \nQ 57.328125 34.859375 57.328125 23.390625 \nQ 57.328125 12.15625 50.6875 5.359375 \nQ 44.046875 -1.421875 33.015625 -1.421875 \nQ 20.359375 -1.421875 13.671875 8.265625 \nQ 6.984375 17.96875 6.984375 36.375 \nQ 6.984375 53.65625 15.1875 63.9375 \nQ 23.390625 74.21875 37.203125 74.21875 \nQ 40.921875 74.21875 44.703125 73.484375 \nQ 48.484375 72.75 52.59375 71.296875 \nz\n\" id=\"DejaVuSans-54\"/>\n      </defs>\n      <g transform=\"translate(7.2 136.935602)scale(0.1 -0.1)\">\n       <use xlink:href=\"#DejaVuSans-48\"/>\n       <use x=\"63.623047\" xlink:href=\"#DejaVuSans-46\"/>\n       <use x=\"95.410156\" xlink:href=\"#DejaVuSans-48\"/>\n       <use x=\"159.033203\" xlink:href=\"#DejaVuSans-54\"/>\n      </g>\n     </g>\n    </g>\n    <g id=\"ytick_5\">\n     <g id=\"line2d_13\">\n      <g>\n       <use style=\"stroke:#000000;stroke-width:0.8;\" x=\"36.465625\" xlink:href=\"#mf30af797ca\" y=\"102.635178\"/>\n      </g>\n     </g>\n     <g id=\"text_13\">\n      <!-- 0.08 -->\n      <defs>\n       <path d=\"M 31.78125 34.625 \nQ 24.75 34.625 20.71875 30.859375 \nQ 16.703125 27.09375 16.703125 20.515625 \nQ 16.703125 13.921875 20.71875 10.15625 \nQ 24.75 6.390625 31.78125 6.390625 \nQ 38.8125 6.390625 42.859375 10.171875 \nQ 46.921875 13.96875 46.921875 20.515625 \nQ 46.921875 27.09375 42.890625 30.859375 \nQ 38.875 34.625 31.78125 34.625 \nz\nM 21.921875 38.8125 \nQ 15.578125 40.375 12.03125 44.71875 \nQ 8.5 49.078125 8.5 55.328125 \nQ 8.5 64.0625 14.71875 69.140625 \nQ 20.953125 74.21875 31.78125 74.21875 \nQ 42.671875 74.21875 48.875 69.140625 \nQ 55.078125 64.0625 55.078125 55.328125 \nQ 55.078125 49.078125 51.53125 44.71875 \nQ 48 40.375 41.703125 38.8125 \nQ 48.828125 37.15625 52.796875 32.3125 \nQ 56.78125 27.484375 56.78125 20.515625 \nQ 56.78125 9.90625 50.3125 4.234375 \nQ 43.84375 -1.421875 31.78125 -1.421875 \nQ 19.734375 -1.421875 13.25 4.234375 \nQ 6.78125 9.90625 6.78125 20.515625 \nQ 6.78125 27.484375 10.78125 32.3125 \nQ 14.796875 37.15625 21.921875 38.8125 \nz\nM 18.3125 54.390625 \nQ 18.3125 48.734375 21.84375 45.5625 \nQ 25.390625 42.390625 31.78125 42.390625 \nQ 38.140625 42.390625 41.71875 45.5625 \nQ 45.3125 48.734375 45.3125 54.390625 \nQ 45.3125 60.0625 41.71875 63.234375 \nQ 38.140625 66.40625 31.78125 66.40625 \nQ 25.390625 66.40625 21.84375 63.234375 \nQ 18.3125 60.0625 18.3125 54.390625 \nz\n\" id=\"DejaVuSans-56\"/>\n      </defs>\n      <g transform=\"translate(7.2 106.434396)scale(0.1 -0.1)\">\n       <use xlink:href=\"#DejaVuSans-48\"/>\n       <use x=\"63.623047\" xlink:href=\"#DejaVuSans-46\"/>\n       <use x=\"95.410156\" xlink:href=\"#DejaVuSans-48\"/>\n       <use x=\"159.033203\" xlink:href=\"#DejaVuSans-56\"/>\n      </g>\n     </g>\n    </g>\n    <g id=\"ytick_6\">\n     <g id=\"line2d_14\">\n      <g>\n       <use style=\"stroke:#000000;stroke-width:0.8;\" x=\"36.465625\" xlink:href=\"#mf30af797ca\" y=\"72.133972\"/>\n      </g>\n     </g>\n     <g id=\"text_14\">\n      <!-- 0.10 -->\n      <g transform=\"translate(7.2 75.933191)scale(0.1 -0.1)\">\n       <use xlink:href=\"#DejaVuSans-48\"/>\n       <use x=\"63.623047\" xlink:href=\"#DejaVuSans-46\"/>\n       <use x=\"95.410156\" xlink:href=\"#DejaVuSans-49\"/>\n       <use x=\"159.033203\" xlink:href=\"#DejaVuSans-48\"/>\n      </g>\n     </g>\n    </g>\n    <g id=\"ytick_7\">\n     <g id=\"line2d_15\">\n      <g>\n       <use style=\"stroke:#000000;stroke-width:0.8;\" x=\"36.465625\" xlink:href=\"#mf30af797ca\" y=\"41.632766\"/>\n      </g>\n     </g>\n     <g id=\"text_15\">\n      <!-- 0.12 -->\n      <g transform=\"translate(7.2 45.431985)scale(0.1 -0.1)\">\n       <use xlink:href=\"#DejaVuSans-48\"/>\n       <use x=\"63.623047\" xlink:href=\"#DejaVuSans-46\"/>\n       <use x=\"95.410156\" xlink:href=\"#DejaVuSans-49\"/>\n       <use x=\"159.033203\" xlink:href=\"#DejaVuSans-50\"/>\n      </g>\n     </g>\n    </g>\n    <g id=\"ytick_8\">\n     <g id=\"line2d_16\">\n      <g>\n       <use style=\"stroke:#000000;stroke-width:0.8;\" x=\"36.465625\" xlink:href=\"#mf30af797ca\" y=\"11.131561\"/>\n      </g>\n     </g>\n     <g id=\"text_16\">\n      <!-- 0.14 -->\n      <g transform=\"translate(7.2 14.93078)scale(0.1 -0.1)\">\n       <use xlink:href=\"#DejaVuSans-48\"/>\n       <use x=\"63.623047\" xlink:href=\"#DejaVuSans-46\"/>\n       <use x=\"95.410156\" xlink:href=\"#DejaVuSans-49\"/>\n       <use x=\"159.033203\" xlink:href=\"#DejaVuSans-52\"/>\n      </g>\n     </g>\n    </g>\n   </g>\n   <g id=\"line2d_17\">\n    <path clip-path=\"url(#p8204d5546f)\" d=\"M 51.683807 224.439629 \nL 54.758187 224.340811 \nL 57.832567 224.20111 \nL 60.906947 224.007415 \nL 63.981327 223.744032 \nL 67.055708 223.39278 \nL 70.130088 222.933338 \nL 73.204468 222.343878 \nL 76.278848 221.601997 \nL 79.353228 220.685905 \nL 82.427608 219.575801 \nL 85.501989 218.255284 \nL 88.576369 216.712639 \nL 91.650749 214.941781 \nL 94.725129 212.942661 \nL 97.799509 210.720969 \nL 100.873889 208.287049 \nL 103.94827 205.654035 \nL 107.02265 202.835351 \nL 110.09703 199.84185 \nL 113.17141 196.678933 \nL 116.24579 193.344103 \nL 119.32017 189.825333 \nL 122.394551 186.100617 \nL 125.468931 182.138871 \nL 128.543311 177.902204 \nL 131.617691 173.349332 \nL 134.692071 168.439741 \nL 137.766451 163.138061 \nL 140.840832 157.418058 \nL 143.915212 151.265748 \nL 146.989592 144.681229 \nL 150.063972 137.679152 \nL 153.138352 130.28793 \nL 156.212732 122.548077 \nL 159.287113 114.510208 \nL 162.361493 106.233273 \nL 165.435873 97.783498 \nL 168.510253 89.234303 \nL 171.584633 80.667171 \nL 174.659013 72.173143 \nL 177.733394 63.85436 \nL 180.807774 55.824959 \nL 183.882154 48.210613 \nL 186.956534 41.146204 \nL 190.030914 34.771379 \nL 193.105294 29.224082 \nL 196.179675 24.632541 \nL 199.254055 21.10642 \nL 202.328435 18.728059 \nL 205.402815 17.544744 \nL 208.477195 17.562876 \nL 211.551575 18.744678 \nL 214.625956 21.007876 \nL 217.700336 24.228456 \nL 220.774716 28.24637 \nL 223.849096 32.873833 \nL 226.923476 37.905675 \nL 229.997856 43.131103 \nL 233.072237 48.346171 \nL 236.146617 53.366184 \nL 239.220997 58.0373 \nL 242.295377 62.24657 \nL 245.369757 65.929711 \nL 248.444137 69.075967 \nL 251.518518 71.729544 \nL 254.592898 73.987236 \nL 257.667278 75.99214 \nL 260.741658 77.923609 \nL 263.816038 79.983942 \nL 266.890418 82.382678 \nL 269.964799 85.319638 \nL 273.039179 88.968153 \nL 276.113559 93.459983 \nL 279.187939 98.8734 \nL 282.262319 105.225654 \nL 285.336699 112.470645 \nL 288.41108 120.502058 \nL 291.48546 129.161657 \nL 294.55984 138.251814 \nL 297.63422 147.550939 \nL 300.7086 156.830156 \nL 303.78298 165.869522 \nL 306.857361 174.472235 \nL 309.931741 182.475644 \nL 313.006121 189.758302 \nL 316.080501 196.242864 \nL 319.154881 201.895097 \nL 322.229261 206.719648 \nL 325.303642 210.753504 \nL 328.378022 214.058134 \nL 331.452402 216.711286 \nL 334.526782 218.799257 \nL 337.601162 220.410219 \nL 340.675542 221.62896 \nL 343.749923 222.533156 \nL 346.824303 223.191104 \nL 349.898683 223.660721 \nL 352.973063 223.989546 \nL 356.047443 224.215431 \n\" style=\"fill:none;stroke:#1f77b4;stroke-linecap:square;stroke-width:1.5;\"/>\n   </g>\n   <g id=\"patch_3\">\n    <path d=\"M 36.465625 224.64 \nL 36.465625 7.2 \n\" style=\"fill:none;stroke:#000000;stroke-linecap:square;stroke-linejoin:miter;stroke-width:0.8;\"/>\n   </g>\n   <g id=\"patch_4\">\n    <path d=\"M 371.265625 224.64 \nL 371.265625 7.2 \n\" style=\"fill:none;stroke:#000000;stroke-linecap:square;stroke-linejoin:miter;stroke-width:0.8;\"/>\n   </g>\n   <g id=\"patch_5\">\n    <path d=\"M 36.465625 224.64 \nL 371.265625 224.64 \n\" style=\"fill:none;stroke:#000000;stroke-linecap:square;stroke-linejoin:miter;stroke-width:0.8;\"/>\n   </g>\n   <g id=\"patch_6\">\n    <path d=\"M 36.465625 7.2 \nL 371.265625 7.2 \n\" style=\"fill:none;stroke:#000000;stroke-linecap:square;stroke-linejoin:miter;stroke-width:0.8;\"/>\n   </g>\n   <g id=\"legend_1\">\n    <g id=\"patch_7\">\n     <path d=\"M 310.978125 29.878125 \nL 364.265625 29.878125 \nQ 366.265625 29.878125 366.265625 27.878125 \nL 366.265625 14.2 \nQ 366.265625 12.2 364.265625 12.2 \nL 310.978125 12.2 \nQ 308.978125 12.2 308.978125 14.2 \nL 308.978125 27.878125 \nQ 308.978125 29.878125 310.978125 29.878125 \nz\n\" style=\"fill:#ffffff;opacity:0.8;stroke:#cccccc;stroke-linejoin:miter;\"/>\n    </g>\n    <g id=\"line2d_18\">\n     <path d=\"M 312.978125 20.298437 \nL 332.978125 20.298437 \n\" style=\"fill:none;stroke:#1f77b4;stroke-linecap:square;stroke-width:1.5;\"/>\n    </g>\n    <g id=\"line2d_19\"/>\n    <g id=\"text_17\">\n     <!-- sum -->\n     <defs>\n      <path d=\"M 44.28125 53.078125 \nL 44.28125 44.578125 \nQ 40.484375 46.53125 36.375 47.5 \nQ 32.28125 48.484375 27.875 48.484375 \nQ 21.1875 48.484375 17.84375 46.4375 \nQ 14.5 44.390625 14.5 40.28125 \nQ 14.5 37.15625 16.890625 35.375 \nQ 19.28125 33.59375 26.515625 31.984375 \nL 29.59375 31.296875 \nQ 39.15625 29.25 43.1875 25.515625 \nQ 47.21875 21.78125 47.21875 15.09375 \nQ 47.21875 7.46875 41.1875 3.015625 \nQ 35.15625 -1.421875 24.609375 -1.421875 \nQ 20.21875 -1.421875 15.453125 -0.5625 \nQ 10.6875 0.296875 5.421875 2 \nL 5.421875 11.28125 \nQ 10.40625 8.6875 15.234375 7.390625 \nQ 20.0625 6.109375 24.8125 6.109375 \nQ 31.15625 6.109375 34.5625 8.28125 \nQ 37.984375 10.453125 37.984375 14.40625 \nQ 37.984375 18.0625 35.515625 20.015625 \nQ 33.0625 21.96875 24.703125 23.78125 \nL 21.578125 24.515625 \nQ 13.234375 26.265625 9.515625 29.90625 \nQ 5.8125 33.546875 5.8125 39.890625 \nQ 5.8125 47.609375 11.28125 51.796875 \nQ 16.75 56 26.8125 56 \nQ 31.78125 56 36.171875 55.265625 \nQ 40.578125 54.546875 44.28125 53.078125 \nz\n\" id=\"DejaVuSans-115\"/>\n      <path d=\"M 8.5 21.578125 \nL 8.5 54.6875 \nL 17.484375 54.6875 \nL 17.484375 21.921875 \nQ 17.484375 14.15625 20.5 10.265625 \nQ 23.53125 6.390625 29.59375 6.390625 \nQ 36.859375 6.390625 41.078125 11.03125 \nQ 45.3125 15.671875 45.3125 23.6875 \nL 45.3125 54.6875 \nL 54.296875 54.6875 \nL 54.296875 0 \nL 45.3125 0 \nL 45.3125 8.40625 \nQ 42.046875 3.421875 37.71875 1 \nQ 33.40625 -1.421875 27.6875 -1.421875 \nQ 18.265625 -1.421875 13.375 4.4375 \nQ 8.5 10.296875 8.5 21.578125 \nz\nM 31.109375 56 \nz\n\" id=\"DejaVuSans-117\"/>\n      <path d=\"M 52 44.1875 \nQ 55.375 50.25 60.0625 53.125 \nQ 64.75 56 71.09375 56 \nQ 79.640625 56 84.28125 50.015625 \nQ 88.921875 44.046875 88.921875 33.015625 \nL 88.921875 0 \nL 79.890625 0 \nL 79.890625 32.71875 \nQ 79.890625 40.578125 77.09375 44.375 \nQ 74.3125 48.1875 68.609375 48.1875 \nQ 61.625 48.1875 57.5625 43.546875 \nQ 53.515625 38.921875 53.515625 30.90625 \nL 53.515625 0 \nL 44.484375 0 \nL 44.484375 32.71875 \nQ 44.484375 40.625 41.703125 44.40625 \nQ 38.921875 48.1875 33.109375 48.1875 \nQ 26.21875 48.1875 22.15625 43.53125 \nQ 18.109375 38.875 18.109375 30.90625 \nL 18.109375 0 \nL 9.078125 0 \nL 9.078125 54.6875 \nL 18.109375 54.6875 \nL 18.109375 46.1875 \nQ 21.1875 51.21875 25.484375 53.609375 \nQ 29.78125 56 35.6875 56 \nQ 41.65625 56 45.828125 52.96875 \nQ 50 49.953125 52 44.1875 \nz\n\" id=\"DejaVuSans-109\"/>\n     </defs>\n     <g transform=\"translate(340.978125 23.798437)scale(0.1 -0.1)\">\n      <use xlink:href=\"#DejaVuSans-115\"/>\n      <use x=\"52.099609\" xlink:href=\"#DejaVuSans-117\"/>\n      <use x=\"115.478516\" xlink:href=\"#DejaVuSans-109\"/>\n     </g>\n    </g>\n   </g>\n  </g>\n </g>\n <defs>\n  <clipPath id=\"p8204d5546f\">\n   <rect height=\"217.44\" width=\"334.8\" x=\"36.465625\" y=\"7.2\"/>\n  </clipPath>\n </defs>\n</svg>\n",
      "image/png": "[encoded data removed]"
     },
     "metadata": {
      "needs_background": "light"
     }
    }
   ],
   "source": [
    "import matplotlib.pyplot as plt\n",
    "import seaborn as sns\n",
    "sns.kdeplot(teams_df['sum'])\n",
    "\n",
    ""
   ]
  },
  {
   "cell_type": "code",
   "execution_count": 6,
   "metadata": {},
   "outputs": [
    {
     "output_type": "stream",
     "name": "stdout",
     "text": "name\nGreen Bay Packers           0.949102\nNew Orleans Saints          0.929297\nTampa Bay Buccaneers        0.928252\nBuffalo Bills               0.919453\nBaltimore Ravens            0.918024\nKansas City Chiefs          0.892990\nTennessee Titans            0.841640\nSeattle Seahawks            0.834145\nIndianapolis Colts          0.789042\nPittsburgh Steelers         0.732714\nMiami Dolphins              0.640897\nArizona Cardinals           0.633925\nLos Angeles Rams            0.630608\nCleveland Browns            0.514129\nMinnesota Vikings           0.508413\nLas Vegas Raiders           0.499862\nAtlanta Falcons             0.473083\nChicago Bears               0.421705\nSan Francisco 49ers         0.418268\nLos Angeles Chargers        0.381142\nNew England Patriots        0.300437\nWashington Football Team    0.300219\nCarolina Panthers           0.296614\nHouston Texans              0.295521\nDallas Cowboys              0.290951\nDetroit Lions               0.176363\nPhiladelphia Eagles         0.164864\nDenver Broncos              0.113684\nNew York Giants             0.113232\nCincinnati Bengals          0.096655\nJacksonville Jaguars        0.035704\nNew York Jets               0.012970\nName: percentile, dtype: float64\n"
    }
   ],
   "source": [
    "teams_df['zscores'] = stats.zscore(teams_df['sum'])\n",
    "teams_df['percentile'] =  1- stats.norm.sf(teams_df['zscores'])\n",
    "print(teams_df['percentile'])"
   ]
  },
  {
   "cell_type": "code",
   "execution_count": 7,
   "metadata": {},
   "outputs": [],
   "source": [
    "def predict (team1, team2):\n",
    "    t1 = teams_df['percentile'].loc[team1]\n",
    "    t2 = teams_df['percentile'].loc[team2]\n",
    "    #return (teams_df['percentile'].loc[team1] - teams_df['percentile'].loc[team2])/2 + .5\n",
    "    p = 1/(10**(-(t1 - t2))+1)\n",
    "    return probToMoneyLine(p)"
   ]
  },
  {
   "cell_type": "code",
   "execution_count": 8,
   "metadata": {},
   "outputs": [],
   "source": [
    "def probToMoneyLine (prob):\n",
    "    ml = 0\n",
    "    prob*=100\n",
    "    if prob >50:\n",
    "        ml = -(prob/(100 - prob)) * 100\n",
    "    elif prob < 50:\n",
    "        ml = (((100 - prob)/prob) * 100)\n",
    "    else:\n",
    "        ml = 100\n",
    "    return ml"
   ]
  },
  {
   "cell_type": "code",
   "execution_count": 9,
   "metadata": {},
   "outputs": [
    {
     "output_type": "execute_result",
     "data": {
      "text/plain": "-219.67379870334616"
     },
     "metadata": {},
     "execution_count": 9
    }
   ],
   "source": [
    "predict('Tennessee Titans', 'Las Vegas Raiders')"
   ]
  },
  {
   "cell_type": "code",
   "execution_count": 10,
   "metadata": {},
   "outputs": [
    {
     "output_type": "stream",
     "name": "stdout",
     "text": "Number of events: 0\nRemaining requests 500\nUsed requests 0\n"
    }
   ],
   "source": [
    "import json\n",
    "import requests\n",
    "import argparse\n",
    "\n",
    "parser = argparse.ArgumentParser(description='Sample')\n",
    "parser.add_argument('--api-key', type=str, default='')\n",
    "args, unknown = parser.parse_known_args()\n",
    "\n",
    "\n",
    "API_KEY = '58f860df380e5b01f108f9418584b714'\n",
    "\n",
    "SPORT = 'americanfootball_nfl' # use the sport_key from the /sports endpoint below, or use 'upcoming' to see the next 8 games across all sports\n",
    "\n",
    "REGION = 'us' # uk | us | eu | au\n",
    "\n",
    "MARKET = 'h2h' # h2h | spreads | totals\n",
    "\n",
    "ODDSFORMAT  = 'american'\n",
    "\n",
    "\n",
    "\n",
    "# # # # # # # # # # # # # # # # # # # # # # # # # # # # # # # # # # # # \n",
    "#\n",
    "# Now get a list of live & upcoming games for the sport you want, along with odds for different bookmakers\n",
    "#\n",
    "# # # # # # # # # # # # # # # # # # # # # # # # # # # # # # # # # # # # \n",
    "\n",
    "odds_response = requests.get('https://api.the-odds-api.com/v3/odds', params={\n",
    "    'api_key': API_KEY,\n",
    "    'sport': SPORT,\n",
    "    'region': REGION,\n",
    "    'mkt': MARKET,\n",
    "    'oddsFormat': ODDSFORMAT,\n",
    "})\n",
    "\n",
    "odds_json = json.loads(odds_response.text)\n",
    "games = []\n",
    "if not odds_json['success']:\n",
    "    print(odds_json['msg'])\n",
    "else:\n",
    "    print('Number of events:', len(odds_json['data']))\n",
    "    # print(odds_json['data'])\n",
    "    for i, game in enumerate(odds_json['data'], start=0):\n",
    "        games.append({})\n",
    "        games[i]['teams'] = game['teams']\n",
    "        games[i]['home'] = game['home_team']\n",
    "\n",
    "        for site in game['sites']:\n",
    "            if site['site_nice'] == 'Caesars':\n",
    "                games[i]['odds'] = site['odds']['h2h']\n",
    "\n",
    "    # Check your usage\n",
    "    print('Remaining requests', odds_response.headers['x-requests-remaining'])\n",
    "    print('Used requests', odds_response.headers['x-requests-used'])"
   ]
  },
  {
   "cell_type": "code",
   "execution_count": 11,
   "metadata": {},
   "outputs": [
    {
     "output_type": "stream",
     "name": "stdout",
     "text": "[]\n"
    }
   ],
   "source": [
    "print(games)"
   ]
  },
  {
   "cell_type": "code",
   "execution_count": 12,
   "metadata": {},
   "outputs": [],
   "source": [
    "for game in games:\n",
    "    team1 = game['teams'][0]\n",
    "    team2 = game['teams'][1]\n",
    "    print(team1, ' vs', team2)\n",
    "    print('Predicted Line for', team1,'is', predict(team1, team2))\n",
    "    print('Actual Line for', team1,'is', game['odds'][0] )\n",
    ""
   ]
  },
  {
   "cell_type": "code",
   "execution_count": null,
   "metadata": {},
   "outputs": [],
   "source": []
  }
 ]
}