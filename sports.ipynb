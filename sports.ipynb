{
 "nbformat": 4,
 "nbformat_minor": 2,
 "metadata": {
  "language_info": {
   "name": "python",
   "codemirror_mode": {
    "name": "ipython",
    "version": 3
   },
   "version": "3.8.3-final"
  },
  "orig_nbformat": 2,
  "file_extension": ".py",
  "mimetype": "text/x-python",
  "name": "python",
  "npconvert_exporter": "python",
  "pygments_lexer": "ipython3",
  "version": 3,
  "kernelspec": {
   "name": "python38364bitb241308ac58a444e85aabff6d225fa3b",
   "display_name": "Python 3.8.3 64-bit"
  }
 },
 "cells": [
  {
   "cell_type": "code",
   "execution_count": null,
   "metadata": {},
   "outputs": [],
   "source": [
    "from sportsreference.nfl.teams import Teams\n",
    "import pandas as pd\n",
    "import numpy as np\n",
    "from scipy import stats\n",
    "from datetime import datetime\n",
    "\n",
    "teams = Teams(year= '2020')\n",
    "teams_df = teams.dataframes\n",
    "teams_df.sort_values(by=['name'], inplace=True, ascending=True)\n",
    "print(teams_df['name'])\n",
    "teams_df.set_index('name', inplace=True)\n",
    "teams_df.drop(['first_downs', 'first_downs_from_penalties',  'games_played','losses', 'abbreviation','pass_attempts', 'pass_completions', 'pass_first_downs','plays', 'points_contributed_by_offense','post_season_result', 'rush_attempts', 'rush_first_downs', 'wins'], axis=1, inplace= True)\n",
    "#stats.zscore(teams_df, axis =1, nan_policy=\"omit\")\n",
    "#print(list(teams_df.columns))\n",
    "for (columnName, columnData) in teams_df.iteritems(): \n",
    "    if columnName != 'name':\n",
    "        teams_df[columnName] = stats.zscore(columnData)\n",
    "teams_df['fumbles'] *= -1\n",
    "teams_df['interceptions'] *= -1\n",
    "teams_df['penalties'] *= -1\n",
    "teams_df['percent_drives_with_turnovers'] *= -1\n",
    "teams_df['points_against'] *= -1\n",
    "teams_df['turnovers'] *= -1\n",
    "teams_df['yards_from_penalties'] *= -1\n",
    "#print(teams_df.head())\n",
    "#print(list(teams_df.columns))"
   ]
  },
  {
   "cell_type": "code",
   "execution_count": null,
   "metadata": {},
   "outputs": [],
   "source": [
    "rank = pd.Series()\n",
    "rank['defensive_simple_rating_system'] = 5\n",
    "rank['fumbles'] =0\n",
    "rank['interceptions'] =0\n",
    "rank['margin_of_victory'] = 3\n",
    "rank['offensive_simple_rating_system'] = 5\n",
    "rank['pass_net_yards_per_attempt'] = .5\n",
    "rank['pass_touchdowns'] = 1\n",
    "rank['pass_yards'] =1\n",
    "rank['penalties'] =1\n",
    "rank['percent_drives_with_points'] =2\n",
    "rank['percent_drives_with_turnovers'] = 2\n",
    "rank['points_against'] =1\n",
    "rank['rank'] = 0\n",
    "rank['rush_touchdowns'] = 1\n",
    "rank['rush_yards'] = 3\n",
    "rank['rush_yards_per_attempt'] =1\n",
    "rank['simple_rating_system'] = 7\n",
    "rank['strength_of_schedule'] = 4\n",
    "rank['turnovers'] = 3\n",
    "rank['win_percentage'] = 6\n",
    "rank['yards'] = 2\n",
    "rank['yards_from_penalties'] = .5\n",
    "rank['yards_per_play'] = 2  \n",
    "sum = rank.sum() \n",
    "rank/=sum"
   ]
  },
  {
   "cell_type": "code",
   "execution_count": null,
   "metadata": {},
   "outputs": [],
   "source": [
    "for (columnName, columnData) in rank.iteritems(): \n",
    "    teams_df[columnName]*= columnData\n",
    "    print(rank[columnName])"
   ]
  },
  {
   "cell_type": "code",
   "execution_count": null,
   "metadata": {},
   "outputs": [],
   "source": [
    "teams_df['sum'] = 0.0\n",
    "for i, row in teams_df.iterrows():\n",
    "    teams_df.at[i, 'sum'] = row['defensive_simple_rating_system':].sum()\n",
    "teams_df.sort_values(by=['sum'], inplace=True, ascending=False)\n",
    "print(teams_df['sum'])"
   ]
  },
  {
   "cell_type": "code",
   "execution_count": null,
   "metadata": {},
   "outputs": [],
   "source": [
    "import matplotlib.pyplot as plt\n",
    "import seaborn as sns\n",
    "sns.kdeplot(teams_df['sum'])\n",
    "\n"
   ]
  },
  {
   "cell_type": "code",
   "execution_count": null,
   "metadata": {},
   "outputs": [],
   "source": [
    "teams_df['zscores'] = stats.zscore(teams_df['sum'])\n",
    "teams_df['percentile'] =  1- stats.norm.sf(teams_df['zscores'])\n",
    "print(teams_df['percentile'])"
   ]
  },
  {
   "cell_type": "code",
   "execution_count": null,
   "metadata": {},
   "outputs": [],
   "source": [
    "def predict (team1, team2):\n",
    "    t1 = teams_df['percentile'].loc[team1]\n",
    "    t2 = teams_df['percentile'].loc[team2]\n",
    "    #return (teams_df['percentile'].loc[team1] - teams_df['percentile'].loc[team2])/2 + .5\n",
    "    p = 1/(10**(-(t1 - t2))+1)\n",
    "    return probToMoneyLine(p)"
   ]
  },
  {
   "cell_type": "code",
   "execution_count": null,
   "metadata": {},
   "outputs": [],
   "source": [
    "def probToMoneyLine (prob):\n",
    "    ml = 0\n",
    "    prob*=100\n",
    "    if prob >50:\n",
    "        ml = -(prob/(100 - prob)) * 100\n",
    "    elif prob < 50:\n",
    "        ml = (((100 - prob)/prob) * 100)\n",
    "    else:\n",
    "        ml = 100\n",
    "    return ml"
   ]
  },
  {
   "cell_type": "code",
   "execution_count": null,
   "metadata": {},
   "outputs": [],
   "source": [
    "predict('Tennessee Titans', 'Las Vegas Raiders')"
   ]
  },
  {
   "cell_type": "code",
   "execution_count": null,
   "metadata": {},
   "outputs": [],
   "source": [
    "import json\n",
    "import requests\n",
    "import argparse\n",
    "\n",
    "parser = argparse.ArgumentParser(description='Sample')\n",
    "parser.add_argument('--api-key', type=str, default='')\n",
    "args, unknown = parser.parse_known_args()\n",
    "\n",
    "\n",
    "API_KEY = '58f860df380e5b01f108f9418584b714'\n",
    "\n",
    "SPORT = 'americanfootball_nfl' # use the sport_key from the /sports endpoint below, or use 'upcoming' to see the next 8 games across all sports\n",
    "\n",
    "REGION = 'us' # uk | us | eu | au\n",
    "\n",
    "MARKET = 'h2h' # h2h | spreads | totals\n",
    "\n",
    "ODDSFORMAT  = 'american'\n",
    "\n",
    "\n",
    "\n",
    "# # # # # # # # # # # # # # # # # # # # # # # # # # # # # # # # # # # # \n",
    "#\n",
    "# Now get a list of live & upcoming games for the sport you want, along with odds for different bookmakers\n",
    "#\n",
    "# # # # # # # # # # # # # # # # # # # # # # # # # # # # # # # # # # # # \n",
    "\n",
    "odds_response = requests.get('https://api.the-odds-api.com/v3/odds', params={\n",
    "    'api_key': API_KEY,\n",
    "    'sport': SPORT,\n",
    "    'region': REGION,\n",
    "    'mkt': MARKET,\n",
    "    'oddsFormat': ODDSFORMAT,\n",
    "})\n",
    "\n",
    "odds_json = json.loads(odds_response.text)\n",
    "games = []\n",
    "if not odds_json['success']:\n",
    "    print(odds_json['msg'])\n",
    "else:\n",
    "    print('Number of events:', len(odds_json['data']))\n",
    "    print(odds_json['data'][0]['commence_time'])\n",
    "    first = odds_json['data']\n",
    "    for i, game in enumerate(odds_json['data'], start=0):\n",
    "        games.append({})\n",
    "        games[i]['teams'] = game['teams']\n",
    "        games[i]['home'] = game['home_team']\n",
    "\n",
    "        for site in game['sites']:\n",
    "            if site['site_nice'] == 'Caesars':\n",
    "                games[i]['odds'] = site['odds']['h2h']\n",
    "\n",
    "    # Check your usage\n",
    "    print('Remaining requests', odds_response.headers['x-requests-remaining'])\n",
    "    print('Used requests', odds_response.headers['x-requests-used'])"
   ]
  },
  {
   "cell_type": "code",
   "execution_count": null,
   "metadata": {},
   "outputs": [],
   "source": [
    "print(games)"
   ]
  },
  {
   "cell_type": "code",
   "execution_count": null,
   "metadata": {},
   "outputs": [],
   "source": [
    "for game in games:\n",
    "    team1 = game['teams'][0]\n",
    "    team2 = game['teams'][1]\n",
    "    print(team1, ' vs', team2)\n",
    "    print('Predicted Line for', team1,'is', predict(team1, team2))\n",
    "    print('Actual Line for', team1,'is', game['odds'][0] )\n"
   ]
  },
  {
   "cell_type": "code",
   "execution_count": null,
   "metadata": {},
   "outputs": [],
   "source": []
  }
 ]
}